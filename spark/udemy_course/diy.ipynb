{
 "cells": [
  {
   "cell_type": "markdown",
   "id": "cdec3a9d",
   "metadata": {},
   "source": [
    "# DIY - Exercises\n",
    "\n",
    "\n",
    "* Do it Yourself Exercises through the course"
   ]
  },
  {
   "cell_type": "markdown",
   "id": "d7a73862",
   "metadata": {},
   "source": [
    "## Section 3 - DataFrames and RDDs"
   ]
  },
  {
   "cell_type": "markdown",
   "id": "97c6a3f0",
   "metadata": {},
   "source": []
  }
 ],
 "metadata": {
  "kernelspec": {
   "display_name": ".obenkyo_venv",
   "language": "python",
   "name": "python3"
  },
  "language_info": {
   "codemirror_mode": {
    "name": "ipython",
    "version": 3
   },
   "file_extension": ".py",
   "mimetype": "text/x-python",
   "name": "python",
   "nbconvert_exporter": "python",
   "pygments_lexer": "ipython3",
   "version": "3.12.3"
  }
 },
 "nbformat": 4,
 "nbformat_minor": 5
}
