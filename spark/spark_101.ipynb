{
 "cells": [
  {
   "cell_type": "markdown",
   "id": "2ee966a2",
   "metadata": {},
   "source": [
    "# Study Guide\n",
    "\n",
    "* Quickstart: https://spark.apache.org/docs/latest/quick-start.html\n",
    "    * spark shell\n",
    "    * caching\n",
    "    * Spark Session: ``SparkSession.builder.appName(\"SimpleApp\").getOrCreate()``\n",
    "* https://spark.apache.org/docs/latest/rdd-programming-guide.html\n",
    "    * Abstractions:\n",
    "        * RDD\n",
    "        * shared variables: (_broadcast_, _accumulators_)\n",
    "        * DataFrame vs Datasets (Python vs strong typing)\n",
    "* Pyspark docs\n",
    "    * https://spark.apache.org/docs/latest/api/python/index.html\n",
    "        * pyspark-connect"
   ]
  },
  {
   "cell_type": "code",
   "execution_count": 7,
   "id": "acce7d53",
   "metadata": {},
   "outputs": [],
   "source": [
    "## Settings\n",
    "# sudo apt update\n",
    "# sudo apt install openjdk-17-jdk\n",
    "# !pip install pyspark\n",
    "# export JAVA_HOME=$(dirname $(dirname $(readlink -f $(which java))))\n",
    "# !pip install pyspark-connect\n",
    "# !pip install pyspark-client"
   ]
  },
  {
   "cell_type": "code",
   "execution_count": null,
   "id": "860c56a2",
   "metadata": {},
   "outputs": [],
   "source": [
    "from pyspark.sql import SparkSession\n",
    "\n",
    "spark = SparkSession.builder.appName(\"Test\").getOrCreate()"
   ]
  },
  {
   "cell_type": "code",
   "execution_count": 7,
   "id": "4e1c64f7",
   "metadata": {},
   "outputs": [
    {
     "name": "stdout",
     "output_type": "stream",
     "text": [
      "+---+---+\n",
      "|  a|  b|\n",
      "+---+---+\n",
      "|  1|  2|\n",
      "+---+---+\n",
      "\n"
     ]
    }
   ],
   "source": [
    "import pandas as pd\n",
    "\n",
    "df = pd.DataFrame({\"a\": [1], \"b\": [2]})\n",
    "dfspark = spark.createDataFrame(df)\n",
    "dfspark.show(1)"
   ]
  }
 ],
 "metadata": {
  "kernelspec": {
   "display_name": ".venv",
   "language": "python",
   "name": "python3"
  },
  "language_info": {
   "codemirror_mode": {
    "name": "ipython",
    "version": 3
   },
   "file_extension": ".py",
   "mimetype": "text/x-python",
   "name": "python",
   "nbconvert_exporter": "python",
   "pygments_lexer": "ipython3",
   "version": "3.12.3"
  }
 },
 "nbformat": 4,
 "nbformat_minor": 5
}
